{
 "cells": [
  {
   "cell_type": "markdown",
   "id": "47b0c4ae",
   "metadata": {
    "papermill": {
     "duration": 0.008273,
     "end_time": "2023-06-30T13:56:02.434753",
     "exception": false,
     "start_time": "2023-06-30T13:56:02.426480",
     "status": "completed"
    },
    "tags": []
   },
   "source": [
    "**This notebook is an exercise in the [Pandas](https://www.kaggle.com/learn/pandas) course.  You can reference the tutorial at [this link](https://www.kaggle.com/residentmario/grouping-and-sorting).**\n",
    "\n",
    "---\n"
   ]
  },
  {
   "cell_type": "markdown",
   "id": "cd9a87c6",
   "metadata": {
    "papermill": {
     "duration": 0.007389,
     "end_time": "2023-06-30T13:56:02.449993",
     "exception": false,
     "start_time": "2023-06-30T13:56:02.442604",
     "status": "completed"
    },
    "tags": []
   },
   "source": [
    "# Introduction\n",
    "\n",
    "In these exercises we'll apply groupwise analysis to our dataset.\n",
    "\n",
    "Run the code cell below to load the data before running the exercises."
   ]
  },
  {
   "cell_type": "code",
   "execution_count": 1,
   "id": "bd77d9f2",
   "metadata": {
    "execution": {
     "iopub.execute_input": "2023-06-30T13:56:02.467799Z",
     "iopub.status.busy": "2023-06-30T13:56:02.467355Z",
     "iopub.status.idle": "2023-06-30T13:56:05.917625Z",
     "shell.execute_reply": "2023-06-30T13:56:05.916566Z"
    },
    "papermill": {
     "duration": 3.462922,
     "end_time": "2023-06-30T13:56:05.920533",
     "exception": false,
     "start_time": "2023-06-30T13:56:02.457611",
     "status": "completed"
    },
    "tags": []
   },
   "outputs": [
    {
     "name": "stdout",
     "output_type": "stream",
     "text": [
      "Setup complete.\n"
     ]
    }
   ],
   "source": [
    "import pandas as pd\n",
    "\n",
    "reviews = pd.read_csv(\"../input/wine-reviews/winemag-data-130k-v2.csv\", index_col=0)\n",
    "#pd.set_option(\"display.max_rows\", 5)\n",
    "\n",
    "from learntools.core import binder; binder.bind(globals())\n",
    "from learntools.pandas.grouping_and_sorting import *\n",
    "print(\"Setup complete.\")"
   ]
  },
  {
   "cell_type": "markdown",
   "id": "888dfe3d",
   "metadata": {
    "papermill": {
     "duration": 0.008301,
     "end_time": "2023-06-30T13:56:05.936800",
     "exception": false,
     "start_time": "2023-06-30T13:56:05.928499",
     "status": "completed"
    },
    "tags": []
   },
   "source": [
    "# Exercises"
   ]
  },
  {
   "cell_type": "markdown",
   "id": "3fcd5832",
   "metadata": {
    "papermill": {
     "duration": 0.009115,
     "end_time": "2023-06-30T13:56:05.953828",
     "exception": false,
     "start_time": "2023-06-30T13:56:05.944713",
     "status": "completed"
    },
    "tags": []
   },
   "source": [
    "## 1.\n",
    "Who are the most common wine reviewers in the dataset? Create a `Series` whose index is the `taster_twitter_handle` category from the dataset, and whose values count how many reviews each person wrote."
   ]
  },
  {
   "cell_type": "code",
   "execution_count": 2,
   "id": "f521708f",
   "metadata": {
    "execution": {
     "iopub.execute_input": "2023-06-30T13:56:05.971435Z",
     "iopub.status.busy": "2023-06-30T13:56:05.970808Z",
     "iopub.status.idle": "2023-06-30T13:56:06.005042Z",
     "shell.execute_reply": "2023-06-30T13:56:06.003939Z"
    },
    "papermill": {
     "duration": 0.046135,
     "end_time": "2023-06-30T13:56:06.007607",
     "exception": false,
     "start_time": "2023-06-30T13:56:05.961472",
     "status": "completed"
    },
    "tags": []
   },
   "outputs": [
    {
     "data": {
      "application/javascript": [
       "parent.postMessage({\"jupyterEvent\": \"custom.exercise_interaction\", \"data\": {\"outcomeType\": 1, \"valueTowardsCompletion\": 0.16666666666666666, \"interactionType\": 1, \"questionType\": 1, \"questionId\": \"1_ReviewsWritten\", \"learnToolsVersion\": \"0.3.4\", \"failureMessage\": \"\", \"exceptionClass\": \"\", \"trace\": \"\"}}, \"*\")"
      ],
      "text/plain": [
       "<IPython.core.display.Javascript object>"
      ]
     },
     "metadata": {},
     "output_type": "display_data"
    },
    {
     "data": {
      "text/markdown": [
       "<span style=\"color:#33cc33\">Correct:</span> \n",
       "\n",
       "\n",
       "```python\n",
       "reviews_written = reviews.groupby('taster_twitter_handle').size()\n",
       "```\n",
       "or\n",
       "```python\n",
       "reviews_written = reviews.groupby('taster_twitter_handle').taster_twitter_handle.count()\n",
       "```\n"
      ],
      "text/plain": [
       "Correct: \n",
       "\n",
       "\n",
       "```python\n",
       "reviews_written = reviews.groupby('taster_twitter_handle').size()\n",
       "```\n",
       "or\n",
       "```python\n",
       "reviews_written = reviews.groupby('taster_twitter_handle').taster_twitter_handle.count()\n",
       "```"
      ]
     },
     "metadata": {},
     "output_type": "display_data"
    }
   ],
   "source": [
    "# Your code here\n",
    "reviews_written = reviews.groupby(\"taster_twitter_handle\").size()\n",
    "\n",
    "# Check your answer\n",
    "q1.check()"
   ]
  },
  {
   "cell_type": "code",
   "execution_count": 3,
   "id": "fddcc65e",
   "metadata": {
    "execution": {
     "iopub.execute_input": "2023-06-30T13:56:06.025852Z",
     "iopub.status.busy": "2023-06-30T13:56:06.025390Z",
     "iopub.status.idle": "2023-06-30T13:56:06.030147Z",
     "shell.execute_reply": "2023-06-30T13:56:06.028955Z"
    },
    "papermill": {
     "duration": 0.016705,
     "end_time": "2023-06-30T13:56:06.032647",
     "exception": false,
     "start_time": "2023-06-30T13:56:06.015942",
     "status": "completed"
    },
    "tags": []
   },
   "outputs": [],
   "source": [
    "# q1.hint()\n",
    "# q1.solution()"
   ]
  },
  {
   "cell_type": "markdown",
   "id": "79ea8faa",
   "metadata": {
    "papermill": {
     "duration": 0.007917,
     "end_time": "2023-06-30T13:56:06.048606",
     "exception": false,
     "start_time": "2023-06-30T13:56:06.040689",
     "status": "completed"
    },
    "tags": []
   },
   "source": [
    "## 2.\n",
    "What is the best wine I can buy for a given amount of money? Create a `Series` whose index is wine prices and whose values is the maximum number of points a wine costing that much was given in a review. Sort the values by price, ascending (so that `4.0` dollars is at the top and `3300.0` dollars is at the bottom)."
   ]
  },
  {
   "cell_type": "code",
   "execution_count": 4,
   "id": "a74a2f13",
   "metadata": {
    "execution": {
     "iopub.execute_input": "2023-06-30T13:56:06.066764Z",
     "iopub.status.busy": "2023-06-30T13:56:06.066321Z",
     "iopub.status.idle": "2023-06-30T13:56:06.082264Z",
     "shell.execute_reply": "2023-06-30T13:56:06.081070Z"
    },
    "papermill": {
     "duration": 0.02787,
     "end_time": "2023-06-30T13:56:06.084609",
     "exception": false,
     "start_time": "2023-06-30T13:56:06.056739",
     "status": "completed"
    },
    "tags": []
   },
   "outputs": [
    {
     "data": {
      "application/javascript": [
       "parent.postMessage({\"jupyterEvent\": \"custom.exercise_interaction\", \"data\": {\"outcomeType\": 1, \"valueTowardsCompletion\": 0.16666666666666666, \"interactionType\": 1, \"questionType\": 1, \"questionId\": \"2_BestRatingPerPrice\", \"learnToolsVersion\": \"0.3.4\", \"failureMessage\": \"\", \"exceptionClass\": \"\", \"trace\": \"\"}}, \"*\")"
      ],
      "text/plain": [
       "<IPython.core.display.Javascript object>"
      ]
     },
     "metadata": {},
     "output_type": "display_data"
    },
    {
     "data": {
      "text/markdown": [
       "<span style=\"color:#33cc33\">Correct</span>"
      ],
      "text/plain": [
       "Correct"
      ]
     },
     "metadata": {},
     "output_type": "display_data"
    }
   ],
   "source": [
    "best_rating_per_price = reviews.groupby('price')['points'].max().sort_index()\n",
    "\n",
    "# Check your answer\n",
    "q2.check()"
   ]
  },
  {
   "cell_type": "code",
   "execution_count": 5,
   "id": "b3d196cd",
   "metadata": {
    "execution": {
     "iopub.execute_input": "2023-06-30T13:56:06.103613Z",
     "iopub.status.busy": "2023-06-30T13:56:06.102980Z",
     "iopub.status.idle": "2023-06-30T13:56:06.107334Z",
     "shell.execute_reply": "2023-06-30T13:56:06.106503Z"
    },
    "papermill": {
     "duration": 0.016557,
     "end_time": "2023-06-30T13:56:06.109672",
     "exception": false,
     "start_time": "2023-06-30T13:56:06.093115",
     "status": "completed"
    },
    "tags": []
   },
   "outputs": [],
   "source": [
    "# q2.hint()\n",
    "# q2.solution()"
   ]
  },
  {
   "cell_type": "markdown",
   "id": "cb9dcba6",
   "metadata": {
    "papermill": {
     "duration": 0.007952,
     "end_time": "2023-06-30T13:56:06.126025",
     "exception": false,
     "start_time": "2023-06-30T13:56:06.118073",
     "status": "completed"
    },
    "tags": []
   },
   "source": [
    "## 3.\n",
    "What are the minimum and maximum prices for each `variety` of wine? Create a `DataFrame` whose index is the `variety` category from the dataset and whose values are the `min` and `max` values thereof."
   ]
  },
  {
   "cell_type": "code",
   "execution_count": 6,
   "id": "520427ad",
   "metadata": {
    "execution": {
     "iopub.execute_input": "2023-06-30T13:56:06.145170Z",
     "iopub.status.busy": "2023-06-30T13:56:06.144495Z",
     "iopub.status.idle": "2023-06-30T13:56:06.184992Z",
     "shell.execute_reply": "2023-06-30T13:56:06.183826Z"
    },
    "papermill": {
     "duration": 0.052798,
     "end_time": "2023-06-30T13:56:06.187357",
     "exception": false,
     "start_time": "2023-06-30T13:56:06.134559",
     "status": "completed"
    },
    "tags": []
   },
   "outputs": [
    {
     "data": {
      "application/javascript": [
       "parent.postMessage({\"jupyterEvent\": \"custom.exercise_interaction\", \"data\": {\"outcomeType\": 1, \"valueTowardsCompletion\": 0.16666666666666666, \"interactionType\": 1, \"questionType\": 1, \"questionId\": \"3_PriceExtremes\", \"learnToolsVersion\": \"0.3.4\", \"failureMessage\": \"\", \"exceptionClass\": \"\", \"trace\": \"\"}}, \"*\")"
      ],
      "text/plain": [
       "<IPython.core.display.Javascript object>"
      ]
     },
     "metadata": {},
     "output_type": "display_data"
    },
    {
     "data": {
      "text/markdown": [
       "<span style=\"color:#33cc33\">Correct</span>"
      ],
      "text/plain": [
       "Correct"
      ]
     },
     "metadata": {},
     "output_type": "display_data"
    }
   ],
   "source": [
    "price_extremes = reviews.groupby('variety').price.agg([min,max])\n",
    "\n",
    "# Check your answer\n",
    "q3.check()"
   ]
  },
  {
   "cell_type": "code",
   "execution_count": 7,
   "id": "6d2a375e",
   "metadata": {
    "execution": {
     "iopub.execute_input": "2023-06-30T13:56:06.207231Z",
     "iopub.status.busy": "2023-06-30T13:56:06.206834Z",
     "iopub.status.idle": "2023-06-30T13:56:06.218186Z",
     "shell.execute_reply": "2023-06-30T13:56:06.217116Z"
    },
    "papermill": {
     "duration": 0.024484,
     "end_time": "2023-06-30T13:56:06.220923",
     "exception": false,
     "start_time": "2023-06-30T13:56:06.196439",
     "status": "completed"
    },
    "tags": []
   },
   "outputs": [
    {
     "data": {
      "application/javascript": [
       "parent.postMessage({\"jupyterEvent\": \"custom.exercise_interaction\", \"data\": {\"interactionType\": 2, \"questionType\": 1, \"questionId\": \"3_PriceExtremes\", \"learnToolsVersion\": \"0.3.4\", \"valueTowardsCompletion\": 0.0, \"failureMessage\": \"\", \"exceptionClass\": \"\", \"trace\": \"\", \"outcomeType\": 4}}, \"*\")"
      ],
      "text/plain": [
       "<IPython.core.display.Javascript object>"
      ]
     },
     "metadata": {},
     "output_type": "display_data"
    },
    {
     "data": {
      "text/markdown": [
       "<span style=\"color:#3366cc\">Hint:</span> Use `agg()`."
      ],
      "text/plain": [
       "Hint: Use `agg()`."
      ]
     },
     "metadata": {},
     "output_type": "display_data"
    },
    {
     "data": {
      "application/javascript": [
       "parent.postMessage({\"jupyterEvent\": \"custom.exercise_interaction\", \"data\": {\"interactionType\": 3, \"questionType\": 1, \"questionId\": \"3_PriceExtremes\", \"learnToolsVersion\": \"0.3.4\", \"valueTowardsCompletion\": 0.0, \"failureMessage\": \"\", \"exceptionClass\": \"\", \"trace\": \"\", \"outcomeType\": 4}}, \"*\")"
      ],
      "text/plain": [
       "<IPython.core.display.Javascript object>"
      ]
     },
     "metadata": {},
     "output_type": "display_data"
    },
    {
     "data": {
      "text/markdown": [
       "<span style=\"color:#33cc99\">Solution:</span> \n",
       "```python\n",
       "price_extremes = reviews.groupby('variety').price.agg([min, max])\n",
       "```"
      ],
      "text/plain": [
       "Solution: \n",
       "```python\n",
       "price_extremes = reviews.groupby('variety').price.agg([min, max])\n",
       "```"
      ]
     },
     "metadata": {},
     "output_type": "display_data"
    }
   ],
   "source": [
    "q3.hint()\n",
    "q3.solution()"
   ]
  },
  {
   "cell_type": "markdown",
   "id": "0a4b1654",
   "metadata": {
    "papermill": {
     "duration": 0.009021,
     "end_time": "2023-06-30T13:56:06.239462",
     "exception": false,
     "start_time": "2023-06-30T13:56:06.230441",
     "status": "completed"
    },
    "tags": []
   },
   "source": [
    "## 4.\n",
    "What are the most expensive wine varieties? Create a variable `sorted_varieties` containing a copy of the dataframe from the previous question where varieties are sorted in descending order based on minimum price, then on maximum price (to break ties)."
   ]
  },
  {
   "cell_type": "code",
   "execution_count": 8,
   "id": "d2514908",
   "metadata": {
    "execution": {
     "iopub.execute_input": "2023-06-30T13:56:06.261685Z",
     "iopub.status.busy": "2023-06-30T13:56:06.261215Z",
     "iopub.status.idle": "2023-06-30T13:56:06.273568Z",
     "shell.execute_reply": "2023-06-30T13:56:06.272477Z"
    },
    "papermill": {
     "duration": 0.027287,
     "end_time": "2023-06-30T13:56:06.276027",
     "exception": false,
     "start_time": "2023-06-30T13:56:06.248740",
     "status": "completed"
    },
    "tags": []
   },
   "outputs": [
    {
     "data": {
      "application/javascript": [
       "parent.postMessage({\"jupyterEvent\": \"custom.exercise_interaction\", \"data\": {\"outcomeType\": 1, \"valueTowardsCompletion\": 0.16666666666666666, \"interactionType\": 1, \"questionType\": 1, \"questionId\": \"4_SortedVarieties\", \"learnToolsVersion\": \"0.3.4\", \"failureMessage\": \"\", \"exceptionClass\": \"\", \"trace\": \"\"}}, \"*\")"
      ],
      "text/plain": [
       "<IPython.core.display.Javascript object>"
      ]
     },
     "metadata": {},
     "output_type": "display_data"
    },
    {
     "data": {
      "text/markdown": [
       "<span style=\"color:#33cc33\">Correct</span>"
      ],
      "text/plain": [
       "Correct"
      ]
     },
     "metadata": {},
     "output_type": "display_data"
    }
   ],
   "source": [
    "sorted_varieties = price_extremes.sort_values(by=['min' ,'max' ], ascending=False)\n",
    "\n",
    "# Check your answer\n",
    "q4.check()"
   ]
  },
  {
   "cell_type": "code",
   "execution_count": 9,
   "id": "cbea4753",
   "metadata": {
    "execution": {
     "iopub.execute_input": "2023-06-30T13:56:06.297565Z",
     "iopub.status.busy": "2023-06-30T13:56:06.296783Z",
     "iopub.status.idle": "2023-06-30T13:56:06.301513Z",
     "shell.execute_reply": "2023-06-30T13:56:06.300601Z"
    },
    "papermill": {
     "duration": 0.01823,
     "end_time": "2023-06-30T13:56:06.303965",
     "exception": false,
     "start_time": "2023-06-30T13:56:06.285735",
     "status": "completed"
    },
    "tags": []
   },
   "outputs": [],
   "source": [
    "# q4.hint()\n",
    "# q4.solution()"
   ]
  },
  {
   "cell_type": "markdown",
   "id": "89fdaa96",
   "metadata": {
    "papermill": {
     "duration": 0.009367,
     "end_time": "2023-06-30T13:56:06.322844",
     "exception": false,
     "start_time": "2023-06-30T13:56:06.313477",
     "status": "completed"
    },
    "tags": []
   },
   "source": [
    "## 5.\n",
    "Create a `Series` whose index is reviewers and whose values is the average review score given out by that reviewer. Hint: you will need the `taster_name` and `points` columns."
   ]
  },
  {
   "cell_type": "code",
   "execution_count": 10,
   "id": "f94f17f6",
   "metadata": {
    "execution": {
     "iopub.execute_input": "2023-06-30T13:56:06.345189Z",
     "iopub.status.busy": "2023-06-30T13:56:06.344406Z",
     "iopub.status.idle": "2023-06-30T13:56:06.380927Z",
     "shell.execute_reply": "2023-06-30T13:56:06.379677Z"
    },
    "papermill": {
     "duration": 0.050701,
     "end_time": "2023-06-30T13:56:06.383842",
     "exception": false,
     "start_time": "2023-06-30T13:56:06.333141",
     "status": "completed"
    },
    "tags": []
   },
   "outputs": [
    {
     "data": {
      "application/javascript": [
       "parent.postMessage({\"jupyterEvent\": \"custom.exercise_interaction\", \"data\": {\"outcomeType\": 1, \"valueTowardsCompletion\": 0.16666666666666666, \"interactionType\": 1, \"questionType\": 1, \"questionId\": \"5_ReviewerMeanRatings\", \"learnToolsVersion\": \"0.3.4\", \"failureMessage\": \"\", \"exceptionClass\": \"\", \"trace\": \"\"}}, \"*\")"
      ],
      "text/plain": [
       "<IPython.core.display.Javascript object>"
      ]
     },
     "metadata": {},
     "output_type": "display_data"
    },
    {
     "data": {
      "text/markdown": [
       "<span style=\"color:#33cc33\">Correct</span>"
      ],
      "text/plain": [
       "Correct"
      ]
     },
     "metadata": {},
     "output_type": "display_data"
    }
   ],
   "source": [
    "reviewer_mean_ratings= reviews.groupby('taster_name').points.mean()\n",
    "#reviewer_mean_ratings = reviws.groupby('taster_name')\n",
    "\n",
    "#Check your answer\n",
    "q5.check()"
   ]
  },
  {
   "cell_type": "code",
   "execution_count": 11,
   "id": "5c574837",
   "metadata": {
    "execution": {
     "iopub.execute_input": "2023-06-30T13:56:06.405901Z",
     "iopub.status.busy": "2023-06-30T13:56:06.405486Z",
     "iopub.status.idle": "2023-06-30T13:56:06.409827Z",
     "shell.execute_reply": "2023-06-30T13:56:06.408753Z"
    },
    "papermill": {
     "duration": 0.018497,
     "end_time": "2023-06-30T13:56:06.412328",
     "exception": false,
     "start_time": "2023-06-30T13:56:06.393831",
     "status": "completed"
    },
    "tags": []
   },
   "outputs": [],
   "source": [
    "# q5.hint()\n",
    "# q5.solution()"
   ]
  },
  {
   "cell_type": "markdown",
   "id": "2b7337ad",
   "metadata": {
    "papermill": {
     "duration": 0.010262,
     "end_time": "2023-06-30T13:56:06.433388",
     "exception": false,
     "start_time": "2023-06-30T13:56:06.423126",
     "status": "completed"
    },
    "tags": []
   },
   "source": [
    "Are there significant differences in the average scores assigned by the various reviewers? Run the cell below to use the `describe()` method to see a summary of the range of values."
   ]
  },
  {
   "cell_type": "code",
   "execution_count": 12,
   "id": "f9783fd2",
   "metadata": {
    "execution": {
     "iopub.execute_input": "2023-06-30T13:56:06.456548Z",
     "iopub.status.busy": "2023-06-30T13:56:06.455911Z",
     "iopub.status.idle": "2023-06-30T13:56:06.471213Z",
     "shell.execute_reply": "2023-06-30T13:56:06.469756Z"
    },
    "papermill": {
     "duration": 0.030702,
     "end_time": "2023-06-30T13:56:06.474455",
     "exception": false,
     "start_time": "2023-06-30T13:56:06.443753",
     "status": "completed"
    },
    "tags": []
   },
   "outputs": [
    {
     "data": {
      "text/plain": [
       "count    19.000000\n",
       "mean     88.233026\n",
       "std       1.243610\n",
       "min      85.855422\n",
       "25%      87.323501\n",
       "50%      88.536235\n",
       "75%      88.975256\n",
       "max      90.562551\n",
       "Name: points, dtype: float64"
      ]
     },
     "execution_count": 12,
     "metadata": {},
     "output_type": "execute_result"
    }
   ],
   "source": [
    "reviewer_mean_ratings.describe()"
   ]
  },
  {
   "cell_type": "markdown",
   "id": "f60bb8a4",
   "metadata": {
    "papermill": {
     "duration": 0.009989,
     "end_time": "2023-06-30T13:56:06.494692",
     "exception": false,
     "start_time": "2023-06-30T13:56:06.484703",
     "status": "completed"
    },
    "tags": []
   },
   "source": [
    "## 6.\n",
    "What combination of countries and varieties are most common? Create a `Series` whose index is a `MultiIndex`of `{country, variety}` pairs. For example, a pinot noir produced in the US should map to `{\"US\", \"Pinot Noir\"}`. Sort the values in the `Series` in descending order based on wine count."
   ]
  },
  {
   "cell_type": "code",
   "execution_count": 13,
   "id": "5895943c",
   "metadata": {
    "execution": {
     "iopub.execute_input": "2023-06-30T13:56:06.517676Z",
     "iopub.status.busy": "2023-06-30T13:56:06.517277Z",
     "iopub.status.idle": "2023-06-30T13:56:06.583545Z",
     "shell.execute_reply": "2023-06-30T13:56:06.582444Z"
    },
    "papermill": {
     "duration": 0.080701,
     "end_time": "2023-06-30T13:56:06.586134",
     "exception": false,
     "start_time": "2023-06-30T13:56:06.505433",
     "status": "completed"
    },
    "tags": []
   },
   "outputs": [
    {
     "data": {
      "application/javascript": [
       "parent.postMessage({\"jupyterEvent\": \"custom.exercise_interaction\", \"data\": {\"outcomeType\": 1, \"valueTowardsCompletion\": 0.16666666666666666, \"interactionType\": 1, \"questionType\": 1, \"questionId\": \"6_GroupbyCountryVariety\", \"learnToolsVersion\": \"0.3.4\", \"failureMessage\": \"\", \"exceptionClass\": \"\", \"trace\": \"\"}}, \"*\")"
      ],
      "text/plain": [
       "<IPython.core.display.Javascript object>"
      ]
     },
     "metadata": {},
     "output_type": "display_data"
    },
    {
     "data": {
      "text/markdown": [
       "<span style=\"color:#33cc33\">Correct</span>"
      ],
      "text/plain": [
       "Correct"
      ]
     },
     "metadata": {},
     "output_type": "display_data"
    }
   ],
   "source": [
    "country_variety_counts = reviews.groupby(['country', 'variety']).size().sort_values(ascending=False)\n",
    "\n",
    "# Check your answer\n",
    "q6.check()"
   ]
  },
  {
   "cell_type": "code",
   "execution_count": 14,
   "id": "38197c69",
   "metadata": {
    "execution": {
     "iopub.execute_input": "2023-06-30T13:56:06.609026Z",
     "iopub.status.busy": "2023-06-30T13:56:06.608595Z",
     "iopub.status.idle": "2023-06-30T13:56:06.614009Z",
     "shell.execute_reply": "2023-06-30T13:56:06.612607Z"
    },
    "papermill": {
     "duration": 0.019834,
     "end_time": "2023-06-30T13:56:06.616552",
     "exception": false,
     "start_time": "2023-06-30T13:56:06.596718",
     "status": "completed"
    },
    "tags": []
   },
   "outputs": [],
   "source": [
    "# q6.hint()\n",
    "# q6.solution()"
   ]
  },
  {
   "cell_type": "markdown",
   "id": "df1743c9",
   "metadata": {
    "papermill": {
     "duration": 0.011839,
     "end_time": "2023-06-30T13:56:06.640113",
     "exception": false,
     "start_time": "2023-06-30T13:56:06.628274",
     "status": "completed"
    },
    "tags": []
   },
   "source": [
    "# Keep going\n",
    "\n",
    "Move on to the [**data types and missing data**](https://www.kaggle.com/residentmario/data-types-and-missing-values)."
   ]
  },
  {
   "cell_type": "markdown",
   "id": "36a78524",
   "metadata": {
    "papermill": {
     "duration": 0.010229,
     "end_time": "2023-06-30T13:56:06.661569",
     "exception": false,
     "start_time": "2023-06-30T13:56:06.651340",
     "status": "completed"
    },
    "tags": []
   },
   "source": [
    "---\n",
    "\n",
    "\n",
    "\n",
    "\n",
    "*Have questions or comments? Visit the [course discussion forum](https://www.kaggle.com/learn/pandas/discussion) to chat with other learners.*"
   ]
  }
 ],
 "metadata": {
  "kernelspec": {
   "display_name": "Python 3",
   "language": "python",
   "name": "python3"
  },
  "language_info": {
   "codemirror_mode": {
    "name": "ipython",
    "version": 3
   },
   "file_extension": ".py",
   "mimetype": "text/x-python",
   "name": "python",
   "nbconvert_exporter": "python",
   "pygments_lexer": "ipython3",
   "version": "3.10.10"
  },
  "papermill": {
   "default_parameters": {},
   "duration": 19.02908,
   "end_time": "2023-06-30T13:56:07.595182",
   "environment_variables": {},
   "exception": null,
   "input_path": "__notebook__.ipynb",
   "output_path": "__notebook__.ipynb",
   "parameters": {},
   "start_time": "2023-06-30T13:55:48.566102",
   "version": "2.4.0"
  }
 },
 "nbformat": 4,
 "nbformat_minor": 5
}
