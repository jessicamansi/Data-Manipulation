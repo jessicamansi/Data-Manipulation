{
 "cells": [
  {
   "cell_type": "markdown",
   "id": "61bd22a4",
   "metadata": {
    "papermill": {
     "duration": 0.005907,
     "end_time": "2023-06-30T14:17:25.133264",
     "exception": false,
     "start_time": "2023-06-30T14:17:25.127357",
     "status": "completed"
    },
    "tags": []
   },
   "source": [
    "**This notebook is an exercise in the [Pandas](https://www.kaggle.com/learn/pandas) course.  You can reference the tutorial at [this link](https://www.kaggle.com/residentmario/data-types-and-missing-values).**\n",
    "\n",
    "---\n"
   ]
  },
  {
   "cell_type": "markdown",
   "id": "3c2a0983",
   "metadata": {
    "papermill": {
     "duration": 0.005058,
     "end_time": "2023-06-30T14:17:25.143980",
     "exception": false,
     "start_time": "2023-06-30T14:17:25.138922",
     "status": "completed"
    },
    "tags": []
   },
   "source": [
    "# Introduction\n",
    "\n",
    "Run the following cell to load your data and some utility functions."
   ]
  },
  {
   "cell_type": "code",
   "execution_count": 1,
   "id": "0a4706a5",
   "metadata": {
    "execution": {
     "iopub.execute_input": "2023-06-30T14:17:25.157001Z",
     "iopub.status.busy": "2023-06-30T14:17:25.156159Z",
     "iopub.status.idle": "2023-06-30T14:17:28.336772Z",
     "shell.execute_reply": "2023-06-30T14:17:28.335595Z"
    },
    "papermill": {
     "duration": 3.190341,
     "end_time": "2023-06-30T14:17:28.339666",
     "exception": false,
     "start_time": "2023-06-30T14:17:25.149325",
     "status": "completed"
    },
    "tags": []
   },
   "outputs": [
    {
     "name": "stdout",
     "output_type": "stream",
     "text": [
      "Setup complete.\n"
     ]
    }
   ],
   "source": [
    "import pandas as pd\n",
    "\n",
    "reviews = pd.read_csv(\"../input/wine-reviews/winemag-data-130k-v2.csv\", index_col=0)\n",
    "\n",
    "from learntools.core import binder; binder.bind(globals())\n",
    "from learntools.pandas.data_types_and_missing_data import *\n",
    "print(\"Setup complete.\")"
   ]
  },
  {
   "cell_type": "markdown",
   "id": "2c8a5d37",
   "metadata": {
    "papermill": {
     "duration": 0.005198,
     "end_time": "2023-06-30T14:17:28.350397",
     "exception": false,
     "start_time": "2023-06-30T14:17:28.345199",
     "status": "completed"
    },
    "tags": []
   },
   "source": [
    "# Exercises"
   ]
  },
  {
   "cell_type": "markdown",
   "id": "8f4ae9dc",
   "metadata": {
    "papermill": {
     "duration": 0.005096,
     "end_time": "2023-06-30T14:17:28.361002",
     "exception": false,
     "start_time": "2023-06-30T14:17:28.355906",
     "status": "completed"
    },
    "tags": []
   },
   "source": [
    "## 1. \n",
    "What is the data type of the `points` column in the dataset?"
   ]
  },
  {
   "cell_type": "code",
   "execution_count": 2,
   "id": "6ef47b3a",
   "metadata": {
    "execution": {
     "iopub.execute_input": "2023-06-30T14:17:28.373361Z",
     "iopub.status.busy": "2023-06-30T14:17:28.372971Z",
     "iopub.status.idle": "2023-06-30T14:17:28.383224Z",
     "shell.execute_reply": "2023-06-30T14:17:28.382130Z"
    },
    "papermill": {
     "duration": 0.01916,
     "end_time": "2023-06-30T14:17:28.385415",
     "exception": false,
     "start_time": "2023-06-30T14:17:28.366255",
     "status": "completed"
    },
    "tags": []
   },
   "outputs": [
    {
     "data": {
      "application/javascript": [
       "parent.postMessage({\"jupyterEvent\": \"custom.exercise_interaction\", \"data\": {\"outcomeType\": 1, \"valueTowardsCompletion\": 0.25, \"interactionType\": 1, \"questionType\": 1, \"questionId\": \"1_PointsDtype\", \"learnToolsVersion\": \"0.3.4\", \"failureMessage\": \"\", \"exceptionClass\": \"\", \"trace\": \"\"}}, \"*\")"
      ],
      "text/plain": [
       "<IPython.core.display.Javascript object>"
      ]
     },
     "metadata": {},
     "output_type": "display_data"
    },
    {
     "data": {
      "text/markdown": [
       "<span style=\"color:#33cc33\">Correct</span>"
      ],
      "text/plain": [
       "Correct"
      ]
     },
     "metadata": {},
     "output_type": "display_data"
    }
   ],
   "source": [
    "# Your code here\n",
    "dtype = reviews.points.dtype\n",
    "\n",
    "# Check your answer\n",
    "q1.check()"
   ]
  },
  {
   "cell_type": "code",
   "execution_count": 3,
   "id": "d5f8ac17",
   "metadata": {
    "execution": {
     "iopub.execute_input": "2023-06-30T14:17:28.400501Z",
     "iopub.status.busy": "2023-06-30T14:17:28.399910Z",
     "iopub.status.idle": "2023-06-30T14:17:28.404058Z",
     "shell.execute_reply": "2023-06-30T14:17:28.403202Z"
    },
    "papermill": {
     "duration": 0.013517,
     "end_time": "2023-06-30T14:17:28.406143",
     "exception": false,
     "start_time": "2023-06-30T14:17:28.392626",
     "status": "completed"
    },
    "tags": []
   },
   "outputs": [],
   "source": [
    "#q1.hint()\n",
    "#q1.solution()"
   ]
  },
  {
   "cell_type": "markdown",
   "id": "0efb9183",
   "metadata": {
    "papermill": {
     "duration": 0.005547,
     "end_time": "2023-06-30T14:17:28.418941",
     "exception": false,
     "start_time": "2023-06-30T14:17:28.413394",
     "status": "completed"
    },
    "tags": []
   },
   "source": [
    "## 2. \n",
    "Create a Series from entries in the `points` column, but convert the entries to strings. Hint: strings are `str` in native Python."
   ]
  },
  {
   "cell_type": "code",
   "execution_count": 4,
   "id": "22c648f6",
   "metadata": {
    "execution": {
     "iopub.execute_input": "2023-06-30T14:17:28.432833Z",
     "iopub.status.busy": "2023-06-30T14:17:28.431779Z",
     "iopub.status.idle": "2023-06-30T14:17:28.533851Z",
     "shell.execute_reply": "2023-06-30T14:17:28.532975Z"
    },
    "papermill": {
     "duration": 0.11133,
     "end_time": "2023-06-30T14:17:28.536106",
     "exception": false,
     "start_time": "2023-06-30T14:17:28.424776",
     "status": "completed"
    },
    "tags": []
   },
   "outputs": [
    {
     "data": {
      "application/javascript": [
       "parent.postMessage({\"jupyterEvent\": \"custom.exercise_interaction\", \"data\": {\"outcomeType\": 1, \"valueTowardsCompletion\": 0.25, \"interactionType\": 1, \"questionType\": 1, \"questionId\": \"2_StrPoints\", \"learnToolsVersion\": \"0.3.4\", \"failureMessage\": \"\", \"exceptionClass\": \"\", \"trace\": \"\"}}, \"*\")"
      ],
      "text/plain": [
       "<IPython.core.display.Javascript object>"
      ]
     },
     "metadata": {},
     "output_type": "display_data"
    },
    {
     "data": {
      "text/markdown": [
       "<span style=\"color:#33cc33\">Correct</span>"
      ],
      "text/plain": [
       "Correct"
      ]
     },
     "metadata": {},
     "output_type": "display_data"
    }
   ],
   "source": [
    "point_strings = reviews.points.astype(str)\n",
    "\n",
    "# Check your answer\n",
    "q2.check()"
   ]
  },
  {
   "cell_type": "code",
   "execution_count": 5,
   "id": "7ba42544",
   "metadata": {
    "execution": {
     "iopub.execute_input": "2023-06-30T14:17:28.550436Z",
     "iopub.status.busy": "2023-06-30T14:17:28.549630Z",
     "iopub.status.idle": "2023-06-30T14:17:28.553580Z",
     "shell.execute_reply": "2023-06-30T14:17:28.552848Z"
    },
    "papermill": {
     "duration": 0.013496,
     "end_time": "2023-06-30T14:17:28.555770",
     "exception": false,
     "start_time": "2023-06-30T14:17:28.542274",
     "status": "completed"
    },
    "tags": []
   },
   "outputs": [],
   "source": [
    "#q2.hint()\n",
    "#q2.solution()"
   ]
  },
  {
   "cell_type": "markdown",
   "id": "54541b32",
   "metadata": {
    "papermill": {
     "duration": 0.005967,
     "end_time": "2023-06-30T14:17:28.568051",
     "exception": false,
     "start_time": "2023-06-30T14:17:28.562084",
     "status": "completed"
    },
    "tags": []
   },
   "source": [
    "## 3.\n",
    "Sometimes the price column is null. How many reviews in the dataset are missing a price?"
   ]
  },
  {
   "cell_type": "code",
   "execution_count": 6,
   "id": "fdc09977",
   "metadata": {
    "execution": {
     "iopub.execute_input": "2023-06-30T14:17:28.582590Z",
     "iopub.status.busy": "2023-06-30T14:17:28.582191Z",
     "iopub.status.idle": "2023-06-30T14:17:28.591949Z",
     "shell.execute_reply": "2023-06-30T14:17:28.590930Z"
    },
    "papermill": {
     "duration": 0.019623,
     "end_time": "2023-06-30T14:17:28.594196",
     "exception": false,
     "start_time": "2023-06-30T14:17:28.574573",
     "status": "completed"
    },
    "tags": []
   },
   "outputs": [
    {
     "data": {
      "application/javascript": [
       "parent.postMessage({\"jupyterEvent\": \"custom.exercise_interaction\", \"data\": {\"outcomeType\": 1, \"valueTowardsCompletion\": 0.25, \"interactionType\": 1, \"questionType\": 1, \"questionId\": \"3_CountMissingPrices\", \"learnToolsVersion\": \"0.3.4\", \"failureMessage\": \"\", \"exceptionClass\": \"\", \"trace\": \"\"}}, \"*\")"
      ],
      "text/plain": [
       "<IPython.core.display.Javascript object>"
      ]
     },
     "metadata": {},
     "output_type": "display_data"
    },
    {
     "data": {
      "text/markdown": [
       "<span style=\"color:#33cc33\">Correct</span>"
      ],
      "text/plain": [
       "Correct"
      ]
     },
     "metadata": {},
     "output_type": "display_data"
    }
   ],
   "source": [
    "n_missing_prices = reviews.price.isnull().sum()\n",
    "\n",
    "# Check your answer\n",
    "q3.check()"
   ]
  },
  {
   "cell_type": "code",
   "execution_count": 7,
   "id": "b4b6def4",
   "metadata": {
    "execution": {
     "iopub.execute_input": "2023-06-30T14:17:28.609496Z",
     "iopub.status.busy": "2023-06-30T14:17:28.609104Z",
     "iopub.status.idle": "2023-06-30T14:17:28.613414Z",
     "shell.execute_reply": "2023-06-30T14:17:28.612482Z"
    },
    "papermill": {
     "duration": 0.014479,
     "end_time": "2023-06-30T14:17:28.615467",
     "exception": false,
     "start_time": "2023-06-30T14:17:28.600988",
     "status": "completed"
    },
    "tags": []
   },
   "outputs": [],
   "source": [
    "#q3.hint()\n",
    "#q3.solution()"
   ]
  },
  {
   "cell_type": "markdown",
   "id": "8468ebad",
   "metadata": {
    "papermill": {
     "duration": 0.007818,
     "end_time": "2023-06-30T14:17:28.629863",
     "exception": false,
     "start_time": "2023-06-30T14:17:28.622045",
     "status": "completed"
    },
    "tags": []
   },
   "source": [
    "## 4.\n",
    "What are the most common wine-producing regions? Create a Series counting the number of times each value occurs in the `region_1` field. This field is often missing data, so replace missing values with `Unknown`. Sort in descending order.  Your output should look something like this:\n",
    "\n",
    "```\n",
    "Unknown                    21247\n",
    "Napa Valley                 4480\n",
    "                           ...  \n",
    "Bardolino Superiore            1\n",
    "Primitivo del Tarantino        1\n",
    "Name: region_1, Length: 1230, dtype: int64\n",
    "```"
   ]
  },
  {
   "cell_type": "code",
   "execution_count": 8,
   "id": "0076ebda",
   "metadata": {
    "execution": {
     "iopub.execute_input": "2023-06-30T14:17:28.645175Z",
     "iopub.status.busy": "2023-06-30T14:17:28.644752Z",
     "iopub.status.idle": "2023-06-30T14:17:28.728018Z",
     "shell.execute_reply": "2023-06-30T14:17:28.726671Z"
    },
    "papermill": {
     "duration": 0.093781,
     "end_time": "2023-06-30T14:17:28.730383",
     "exception": false,
     "start_time": "2023-06-30T14:17:28.636602",
     "status": "completed"
    },
    "tags": []
   },
   "outputs": [
    {
     "data": {
      "application/javascript": [
       "parent.postMessage({\"jupyterEvent\": \"custom.exercise_interaction\", \"data\": {\"outcomeType\": 1, \"valueTowardsCompletion\": 0.25, \"interactionType\": 1, \"questionType\": 2, \"questionId\": \"4_ReviewsPerRegion\", \"learnToolsVersion\": \"0.3.4\", \"failureMessage\": \"\", \"exceptionClass\": \"\", \"trace\": \"\"}}, \"*\")"
      ],
      "text/plain": [
       "<IPython.core.display.Javascript object>"
      ]
     },
     "metadata": {},
     "output_type": "display_data"
    },
    {
     "data": {
      "text/markdown": [
       "<span style=\"color:#33cc33\">Correct</span>"
      ],
      "text/plain": [
       "Correct"
      ]
     },
     "metadata": {},
     "output_type": "display_data"
    }
   ],
   "source": [
    "reviews_per_region = reviews.region_1.fillna('Unkown').value_counts().sort_values(ascending=False)\n",
    "\n",
    "# Check your answer\n",
    "q4.check()"
   ]
  },
  {
   "cell_type": "code",
   "execution_count": 9,
   "id": "b3124c24",
   "metadata": {
    "execution": {
     "iopub.execute_input": "2023-06-30T14:17:28.745838Z",
     "iopub.status.busy": "2023-06-30T14:17:28.745425Z",
     "iopub.status.idle": "2023-06-30T14:17:28.750205Z",
     "shell.execute_reply": "2023-06-30T14:17:28.748967Z"
    },
    "papermill": {
     "duration": 0.015316,
     "end_time": "2023-06-30T14:17:28.752475",
     "exception": false,
     "start_time": "2023-06-30T14:17:28.737159",
     "status": "completed"
    },
    "tags": []
   },
   "outputs": [],
   "source": [
    "# q4.hint()\n",
    "# q4.solution()"
   ]
  },
  {
   "cell_type": "markdown",
   "id": "f67bcdfb",
   "metadata": {
    "papermill": {
     "duration": 0.006487,
     "end_time": "2023-06-30T14:17:28.765814",
     "exception": false,
     "start_time": "2023-06-30T14:17:28.759327",
     "status": "completed"
    },
    "tags": []
   },
   "source": [
    "# Keep going\n",
    "\n",
    "Move on to **[renaming and combining](https://www.kaggle.com/residentmario/renaming-and-combining)**."
   ]
  },
  {
   "cell_type": "markdown",
   "id": "a5cb2838",
   "metadata": {
    "papermill": {
     "duration": 0.006562,
     "end_time": "2023-06-30T14:17:28.779077",
     "exception": false,
     "start_time": "2023-06-30T14:17:28.772515",
     "status": "completed"
    },
    "tags": []
   },
   "source": [
    "---\n",
    "\n",
    "\n",
    "\n",
    "\n",
    "*Have questions or comments? Visit the [course discussion forum](https://www.kaggle.com/learn/pandas/discussion) to chat with other learners.*"
   ]
  }
 ],
 "metadata": {
  "kernelspec": {
   "display_name": "Python 3",
   "language": "python",
   "name": "python3"
  },
  "language_info": {
   "codemirror_mode": {
    "name": "ipython",
    "version": 3
   },
   "file_extension": ".py",
   "mimetype": "text/x-python",
   "name": "python",
   "nbconvert_exporter": "python",
   "pygments_lexer": "ipython3",
   "version": "3.10.10"
  },
  "papermill": {
   "default_parameters": {},
   "duration": 16.052322,
   "end_time": "2023-06-30T14:17:29.606966",
   "environment_variables": {},
   "exception": null,
   "input_path": "__notebook__.ipynb",
   "output_path": "__notebook__.ipynb",
   "parameters": {},
   "start_time": "2023-06-30T14:17:13.554644",
   "version": "2.4.0"
  }
 },
 "nbformat": 4,
 "nbformat_minor": 5
}
